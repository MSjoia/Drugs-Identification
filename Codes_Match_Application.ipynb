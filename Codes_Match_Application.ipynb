{
  "nbformat": 4,
  "nbformat_minor": 0,
  "metadata": {
    "colab": {
      "provenance": [],
      "collapsed_sections": [
        "oMcHZV9Oqq5X"
      ],
      "authorship_tag": "ABX9TyOmsQ3gY8UAOchVw3/xewp6",
      "include_colab_link": true
    },
    "kernelspec": {
      "name": "python3",
      "display_name": "Python 3"
    },
    "language_info": {
      "name": "python"
    }
  },
  "cells": [
    {
      "cell_type": "markdown",
      "metadata": {
        "id": "view-in-github",
        "colab_type": "text"
      },
      "source": [
        "<a href=\"https://colab.research.google.com/github/MSjoia/Drugs-Identification/blob/main/Codes_Match_Application.ipynb\" target=\"_parent\"><img src=\"https://colab.research.google.com/assets/colab-badge.svg\" alt=\"Open In Colab\"/></a>"
      ]
    },
    {
      "cell_type": "markdown",
      "source": [
        "# **Drugs Identification Application:**\n",
        "###**Purpose:**\n",
        "Standardize input medicine/item names to identify a medicine/item from the database.\n",
        "###**Scope:**\n",
        "This application aims to match Internal Codes given the Supplier Codes and/or PIP Codes and/or Supplier Descriptions.\n",
        "\n",
        "It comprises of 2 independent programs:\n",
        "<br>i) Internal Codes Match\n",
        "<br>ii) NHSBSA Descriptions Match\n",
        "<br>iii) Future Extension: AI verification for the matched results\n",
        "###<br>**How does it work?**\n",
        "**i) Internal Codes Match:**\n",
        "1.   If given, it finds and matches supplier codes with the (if) existing Supplier Template in Templates Google Drive Folder.\n",
        "\n",
        "| Parameter           | Value             |\n",
        "|---------------------|-------------------|\n",
        "| Input:              | Supplier Code     |\n",
        "| Match With:         | Supplier Template |\n",
        "| Output:             | Internal Code     |\n",
        "| Match Type:         | Exact Match       |\n",
        "| Match Type Code:    | Supplier Code     |\n",
        "| Score:              | N/A (Blank)       |\n",
        "\n",
        "2.   For the remaining lines, it matches PIP Codes with all of the templates and PricelistExport file database. PIP Codes are assumed to be constant across different templates.\n",
        "\n",
        "| Parameter           | Value             |\n",
        "|---------------------|-------------------|\n",
        "| Input:              | PIP Code          |\n",
        "| Match With:         | PIP Codes of All Templates & PricelistExport|\n",
        "| Output:             | Internal Code     |\n",
        "| Match Type:         | Exact Match       |\n",
        "| Match Type Code:    | PIP - Templates/PricelistExport|\n",
        "| Score:              | N/A (Blank)       |\n",
        "\n",
        "3.   For unmatched lines, it matches input descriptions with all of the templates descriptions and PricelistExport database.\n",
        "\n",
        "| Parameter           | Value             |\n",
        "|---------------------|-------------------|\n",
        "| Input:              | Description       |\n",
        "| Match With:         | Descriptions of All Templates & PricelistExport|\n",
        "| Output:             | Internal Code     |\n",
        "| Match Type:         | Exact Match       |\n",
        "| Match Type Code:    | Item - Templates/PricelistExport|\n",
        "| Score:              | N/A (Blank)       |\n",
        "\n",
        "4.   As a last resort it uses input descriptions and matches with standard database description as a fuzzy match with a confidence threshold of 70%. Best match with highest percent resemblance is chosen, with minimum resemblence being 70%. To increase accuracy item name is first used to filter all the relevant results with 90% threshold. This leaves a very slim chance of mismatch only in case of anomalies like Omeprazole and Esomeprazole which are different items but highly alike.\n",
        "\n",
        "| Parameter           | Value             |\n",
        "|---------------------|-------------------|\n",
        "| Input:              | Description       |\n",
        "| Match With:         | PricelistExport Database|\n",
        "| Output:             | Internal Code     |\n",
        "| Match Type:         | Approximate Match |\n",
        "| Match Type Code:    | Percentage        |\n",
        "| Score:              | Number (How much % match)|\n",
        "\n",
        "\n",
        "<br>**ii) NHSBSA Description Match:**\n",
        "1.   An extension to match NHSBSA descriptions.\n",
        "\n",
        "| Parameter           | Value             |\n",
        "|---------------------|-------------------|\n",
        "| Input:              | Description       |\n",
        "| Match With:         | NHSBSA Descriptions|\n",
        "| Output:             | NHSBSA Description|\n",
        "| Match Type:         | Approximate Match |\n",
        "| Match Type Code:    | Percentage        |\n",
        "| Score:              | Number (How much % match)|\n",
        "\n",
        "\n",
        "\n",
        "\n",
        "\n",
        "\n",
        "\n"
      ],
      "metadata": {
        "id": "uvLRvIUXryNd"
      }
    },
    {
      "cell_type": "markdown",
      "source": [
        "# **1: Basics**"
      ],
      "metadata": {
        "id": "h-Eu3QAHqPpR"
      }
    },
    {
      "cell_type": "markdown",
      "source": [
        "## **Input Parameters:**\n",
        "Change your Sheet Name, File Name, File ID etc. here:\n",
        "\n"
      ],
      "metadata": {
        "id": "eLF_BYAsCj3b"
      }
    },
    {
      "cell_type": "code",
      "source": [
        "# @title Please Enter Basic Info: { run: \"auto\", vertical-output: true, form-width: \"35%\", display-mode: \"form\" }\n",
        "option_createCSV = \"No\" # @param [\"Yes\", \"No\"]\n",
        "# Global Variables\n",
        "id_pricelistExport = ''#removed temporarily but keep it here for easy team editing\n",
        "id_inputFile = ''\n",
        "id_folder_templates = ''\n",
        "name_inputTab = 'Input'\n",
        "name_templateTab = 'Sheet1'\n",
        "name_CSV = 'allTemplatesData'\n",
        "name_Tab_pricelistExport = 'ProductFile'\n",
        "drug_name_score_cutoff = 90\n",
        "drug_description_score_cutoff = 70\n",
        "\n",
        "# \"Do you want to create CSV from Templates files? (y/n): \" //keep it no unless templates have been add/deleted/edited.\n",
        "option_createCSV = option_createCSV.lower()[0]\n",
        "print(option_createCSV)"
      ],
      "metadata": {
        "id": "EFRb7c-OZF82",
        "colab": {
          "base_uri": "https://localhost:8080/"
        },
        "outputId": "524f3010-65f9-41cd-d581-fee4c6a7d702"
      },
      "execution_count": 4,
      "outputs": [
        {
          "output_type": "stream",
          "name": "stdout",
          "text": [
            "n\n"
          ]
        }
      ]
    },
    {
      "cell_type": "markdown",
      "source": [
        "## **1.1: Imports and Installs**"
      ],
      "metadata": {
        "id": "oMcHZV9Oqq5X"
      }
    },
    {
      "cell_type": "code",
      "source": [
        "!pip install thefuzz"
      ],
      "metadata": {
        "colab": {
          "base_uri": "https://localhost:8080/"
        },
        "id": "PstmFNaLrOyW",
        "outputId": "f1824207-e68d-4124-e309-c916fa6309b6"
      },
      "execution_count": null,
      "outputs": [
        {
          "output_type": "stream",
          "name": "stdout",
          "text": [
            "Requirement already satisfied: thefuzz in /usr/local/lib/python3.10/dist-packages (0.22.1)\n",
            "Requirement already satisfied: rapidfuzz<4.0.0,>=3.0.0 in /usr/local/lib/python3.10/dist-packages (from thefuzz) (3.8.1)\n"
          ]
        }
      ]
    },
    {
      "cell_type": "code",
      "source": [
        "import pandas as pd\n",
        "import json\n",
        "import csv\n",
        "import re\n",
        "\n",
        "# Import necessary libraries\n",
        "from thefuzz import fuzz, process\n",
        "\n",
        "#For Google Drive\n",
        "from google.colab import auth\n",
        "auth.authenticate_user()\n",
        "from googleapiclient.discovery import build\n",
        "drive_service = build('drive', 'v3')\n",
        "\n",
        "import io\n",
        "from googleapiclient.http import MediaIoBaseDownload\n",
        "from googleapiclient.http import MediaFileUpload\n",
        "from googleapiclient.http import MediaIoBaseUpload\n",
        "\n",
        "#For Google Sheets\n",
        "import gspread\n",
        "from google.auth import default\n",
        "creds, _ = default()\n",
        "\n",
        "gc = gspread.authorize(creds)"
      ],
      "metadata": {
        "id": "0ogPU6vorB9V"
      },
      "execution_count": null,
      "outputs": []
    },
    {
      "cell_type": "markdown",
      "source": [
        "## **1.2: Modules**"
      ],
      "metadata": {
        "id": "m6RoMjumq4fh"
      }
    },
    {
      "cell_type": "code",
      "execution_count": null,
      "metadata": {
        "id": "YyzT_h4YqHKK"
      },
      "outputs": [],
      "source": [
        "'''\n",
        "#=============================================Introduction=========================================================\n",
        "1. Required: Input Name string and Array of Standard Names\n",
        "2. Takes first word from input name and finds all the standard names which contain first word from input name, with 90% accuracy. Creates a list of these matched names.\n",
        "3. Uses Fuzzy match with 70% accuracy to match complete input name with short list in step 2 and finds single best match of all.\n",
        "4. If no match is found in either step 1 or 2, None is returned.\n",
        "#==================================================================================================================\n",
        "'''\n",
        "def match_input_to_standard(input_name,standard_names_list):\n",
        "  try:\n",
        "    # Extract the first word from input_name\n",
        "    first_word_input = input_name.split()[0]\n",
        "\n",
        "    # Match the first word with 95% accuracy\n",
        "    # Create an empty shortlist\n",
        "    short_list = []\n",
        "\n",
        "    # Iterate through standard names and compare with each word in input\n",
        "    for std_item in standard_names_list:\n",
        "      std_words = std_item.split()\n",
        "      for std_word in std_words:\n",
        "        # Use fuzz.ratio for lenient matching (configurable threshold)\n",
        "        if fuzz.ratio(first_word_input, std_word) >= drug_name_score_cutoff:\n",
        "          short_list.append(std_item)\n",
        "          break  # Exit inner loop once a match is found for the current std_item\n",
        "\n",
        "    #print(f\"short_list: {short_list}\")\n",
        "    match = process.extractOne(input_name, short_list, scorer=fuzz.token_sort_ratio,score_cutoff=drug_description_score_cutoff)\n",
        "    if match is None:\n",
        "      return (None,None)\n",
        "    else:\n",
        "      return match\n",
        "  except Exception as e:\n",
        "    print(f\"Fuzzy Match: An error occurred: {e}\")\n",
        "    return (None,None)"
      ]
    },
    {
      "cell_type": "code",
      "source": [
        "'''\n",
        "#=============================================Introduction=========================================================\n",
        "1. Fetch Sheets Data using one range input.\n",
        "2. Converts each column of range to array.\n",
        "3. Returns 2D array of each column as an array.\n",
        "#==================================================================================================================\n",
        "'''\n",
        "def getSheetsData(file_id, sheet_name, data_range, major_dimension='rows'):\n",
        "    try:\n",
        "        data = gc.open_by_key(file_id).worksheet(sheet_name).get(data_range)\n",
        "        if not data:\n",
        "            return []\n",
        "\n",
        "        if major_dimension.lower()[:3] == 'col':\n",
        "            arr_data = []\n",
        "            for i in range(len(data[0])):\n",
        "                col_data = [row[i].lower().strip() for row in data]\n",
        "                arr_data.append(col_data)\n",
        "            return arr_data\n",
        "        else:\n",
        "            arr_data = []\n",
        "            for row in data:\n",
        "                arr_data.append([str(cell).lower().strip() for cell in row])\n",
        "            return arr_data\n",
        "    except Exception as e:\n",
        "        print(f\"An error occurred: {e}\")\n",
        "        return []\n",
        "\n"
      ],
      "metadata": {
        "id": "F_67zpNuWy7U"
      },
      "execution_count": null,
      "outputs": []
    },
    {
      "cell_type": "code",
      "source": [
        "#Returns Array of File IDs in a folder.\n",
        "\n",
        "def getFileIDs_inAFolder(id_folder):\n",
        "  #files = []\n",
        "  fileIDs = []\n",
        "  page_token = None\n",
        "  while True:\n",
        "    response = (drive_service.files().list(\n",
        "            q=f\"'{id_folder}' in parents and trashed=false and mimeType = 'application/vnd.google-apps.spreadsheet'\",\n",
        "            fields=\"nextPageToken, files(id, name)\",\n",
        "            pageToken=page_token,\n",
        "        )\n",
        "        .execute()\n",
        "    )\n",
        "    for file in response.get(\"files\", []):\n",
        "      # Process change\n",
        "      fileIDs.append([file.get(\"name\"),file.get('id')])\n",
        "      #print(f'Found file: {file.get(\"name\")}, {file.get(\"id\")}')\n",
        "    #files.extend(response.get(\"files\", []))\n",
        "    page_token = response.get(\"nextPageToken\", None)\n",
        "    if page_token is None:\n",
        "      break\n",
        "  return fileIDs"
      ],
      "metadata": {
        "id": "UW8lik9OjeLo"
      },
      "execution_count": null,
      "outputs": []
    },
    {
      "cell_type": "code",
      "source": [
        "#Returns Array of File IDs in a folder of a given name.\n",
        "def getFileName_inAFolder(file_name,id_folder,number_of_files=1):\n",
        "  fileIDs = []\n",
        "  page_token = None\n",
        "  while True:\n",
        "    response = (drive_service.files().list(\n",
        "            q=f\"'{id_folder}' in parents and trashed=false and name contains '{file_name}' and mimeType = 'application/vnd.google-apps.spreadsheet'\",\n",
        "            fields=\"nextPageToken, files(id, name)\",\n",
        "            pageToken=page_token,\n",
        "        )\n",
        "        .execute()\n",
        "    )\n",
        "    for file in response.get(\"files\", []):\n",
        "      fileIDs.append([file.get(\"name\"),file.get('id')])\n",
        "    page_token = response.get(\"nextPageToken\", None)\n",
        "    if page_token is None:\n",
        "      break\n",
        "  return fileIDs[:number_of_files]"
      ],
      "metadata": {
        "id": "159ma75Y2-ZY"
      },
      "execution_count": null,
      "outputs": []
    },
    {
      "cell_type": "code",
      "source": [
        "def createFile(fileName,folderID,mimeType):\n",
        "  file_metadata = {\n",
        "    'name': fileName,\n",
        "    'mimeType': mimeType,\n",
        "    \"parents\": [folderID],\n",
        "  }\n",
        "  created = drive_service.files().create(body=file_metadata,fields='id').execute()\n",
        "  print('File ID: {}'.format(created.get('id')))\n",
        "  return created.get('id')\n",
        "\n",
        "#createFile('allTemplates.csv',id_folder_templates)\n",
        "\n",
        "# Function to get or create a JSON file in a specified folder\n",
        "def get_or_create_file(drive_service, host_folder_id, fileName,mimeType):\n",
        "    # Search for the file in the specified folder\n",
        "    query = f\"'{host_folder_id}' in parents and trashed=false and mimeType='{mimeType}' and name='{fileName}'\"\n",
        "    response = drive_service.files().list(q=query).execute()\n",
        "    files = response.get('files', [])\n",
        "\n",
        "    if files:\n",
        "        # If the file exists, return its ID\n",
        "        file_id = files[0]['id']\n",
        "        print(f\"file '{fileName}' found in the folder with ID '{host_folder_id}'. File ID: {file_id}\")\n",
        "        return file_id\n",
        "    else:\n",
        "        # If the file doesn't exist, you can create it (you mentioned you have code for this)\n",
        "        print(f\"file '{fileName}' not found in the folder with ID '{host_folder_id}'. Creating a new file...\")\n",
        "        file_id = createFile(fileName,host_folder_id,mimeType)\n",
        "        return file_id\n",
        "\n",
        "# Get or create JSON file in the specified folder\n",
        "#get_or_create_file(drive_service, id_folder_templates, 'allTemplatesData','text/csv')\n"
      ],
      "metadata": {
        "id": "AM8MQySyIR8o"
      },
      "execution_count": null,
      "outputs": []
    },
    {
      "cell_type": "code",
      "source": [
        "def update_csv(file_id, new_data):\n",
        "  # Convert the new data to CSV format\n",
        "  csv_content = io.StringIO()\n",
        "  csv_writer = csv.writer(csv_content)\n",
        "  csv_writer.writerows(new_data)\n",
        "\n",
        "  # Upload the updated content back to Google Drive, overwriting the existing file\n",
        "  media_body = MediaIoBaseUpload(io.BytesIO(csv_content.getvalue().encode('utf-8')), mimetype='text/csv')\n",
        "  drive_service.files().update(fileId=file_id, media_body=media_body).execute()\n",
        "\n",
        "  print(f\"Data updated successfully in the file with ID '{file_id}'.\")"
      ],
      "metadata": {
        "id": "c-77hPZKIyf-"
      },
      "execution_count": null,
      "outputs": []
    },
    {
      "cell_type": "code",
      "source": [
        "def reArrangeCols(data, header_result,flat=False):\n",
        "    header_result = [e.strip().lower() for e in header_result]\n",
        "    header = [e.strip().lower() for e in data[0]]\n",
        "    print(f\"header Data {header}\")\n",
        "    reArrangedData = [header_result]\n",
        "\n",
        "    len_rows_data = len(data)\n",
        "    list_indices_result = [header.index(x) if x in header else None for x in header_result]\n",
        "    print(f\"Header matched with Data, list_indices_result: {list_indices_result}\")\n",
        "\n",
        "    for i in range(1,len_rows_data):\n",
        "        row_to_append = []\n",
        "        for j in list_indices_result:\n",
        "            if j ==None:\n",
        "                row_to_append.append(None)\n",
        "            else:\n",
        "                try:\n",
        "                    row_to_append.append(data[i][j])\n",
        "                except IndexError:\n",
        "                    row_to_append.append(None)\n",
        "        reArrangedData.append(row_to_append)\n",
        "    if flat==True:\n",
        "      reArrangedData = [item for sublist in reArrangedData for item in sublist]\n",
        "    return reArrangedData\n",
        "\n",
        "# Example usage\n",
        "data = [['B', 'A', 'D', 'C'], [134, 454, 23],['!','£','$','%'],['-','--','---','----'],['@','@@','@@@','@@@@']]\n",
        "header_result = ['A', 'B', 'E','C']\n",
        "reArrangedData = reArrangeCols(data, header_result)\n",
        "print(reArrangedData)\n"
      ],
      "metadata": {
        "colab": {
          "base_uri": "https://localhost:8080/"
        },
        "id": "qjtEmq572hBx",
        "outputId": "518150ef-03e2-4d57-f2cb-c70174ebf8ff"
      },
      "execution_count": null,
      "outputs": [
        {
          "output_type": "stream",
          "name": "stdout",
          "text": [
            "header Data ['b', 'a', 'd', 'c']\n",
            "Header matched with Data, list_indices_result: [1, 0, None, 3]\n",
            "[['a', 'b', 'e', 'c'], [454, 134, None, None], ['£', '!', None, '%'], ['--', '-', None, '----'], ['@@', '@', None, '@@@@']]\n"
          ]
        }
      ]
    },
    {
      "cell_type": "code",
      "source": [
        "#Read the Existing CSV File\n",
        "def read_csv_file(file_id):\n",
        "    try:\n",
        "        request = drive_service.files().get_media(fileId=file_id)\n",
        "        content = request.execute()\n",
        "\n",
        "        # Decode the content bytes to a string\n",
        "        content_str = content.decode('utf-8')\n",
        "\n",
        "        # Create a StringIO object to simulate a file-like object\n",
        "        csv_data = io.StringIO(content_str)\n",
        "\n",
        "        # Read the CSV data into a list of dictionaries\n",
        "        csv_reader = csv.DictReader(csv_data)\n",
        "        rows = [row for row in csv_reader]\n",
        "        return rows\n",
        "\n",
        "    except Exception as e:\n",
        "        print(f\"Error reading CSV file with ID '{file_id}': {e}\")\n",
        "        return None\n"
      ],
      "metadata": {
        "id": "Vlegpgp9LA5M"
      },
      "execution_count": null,
      "outputs": []
    },
    {
      "cell_type": "code",
      "source": [
        "def colAlphaNum(input):\n",
        "    def isValidAlphabet(input):\n",
        "        return bool(re.match(r'^[A-Za-z]+$', input))\n",
        "\n",
        "    if isinstance(input, int):\n",
        "        # Convert Column Number to Alphabet\n",
        "        column = ''\n",
        "        while input > 0:\n",
        "            temp = (input - 1) % 26\n",
        "            column = chr(temp + 65) + column\n",
        "            input = (input - temp - 1) // 26\n",
        "        return column\n",
        "    elif isinstance(input, str) and isValidAlphabet(input):\n",
        "        # Convert Alphabet to Column Number\n",
        "        input = input.upper()\n",
        "        result = 0\n",
        "        base = 'ABCDEFGHIJKLMNOPQRSTUVWXYZ'\n",
        "\n",
        "        for char in input:\n",
        "            charValue = base.index(char) + 1\n",
        "\n",
        "            if charValue == 0:\n",
        "                return ''  # Invalid character\n",
        "\n",
        "            result = result * 26 + charValue\n",
        "\n",
        "        return result\n",
        "\n",
        "    return ''  # Return empty string for invalid input type\n"
      ],
      "metadata": {
        "id": "GEa3cuPS6v0P"
      },
      "execution_count": null,
      "outputs": []
    },
    {
      "cell_type": "code",
      "source": [
        "def standardize_medicine_name(medicine_name):\n",
        "  # Convert input string to lowercase\n",
        "  medicine_name = medicine_name.lower().strip()\n",
        "\n",
        "  # Replace specific terms\n",
        "  replacements = {\n",
        "    \"tab\": \"tablets\",\n",
        "    \"tabs\": \"tablets\",\n",
        "    \"tablet\": \"tablets\",\n",
        "\n",
        "    \"cap\": \"capsules\",\n",
        "    \"caps\": \"capsules\",\n",
        "    \"capsule\": \"capsules\",\n",
        "\n",
        "    \"crm\": \"cream\",\n",
        "    \"soln\": \"solution\",\n",
        "    \"sol\": \"solution\",\n",
        "    \"oint\": \"ointment\",\n",
        "    \"disp\": \"dispersible\",\n",
        "    \"sugar free\": \"s/f\",\n",
        "    \"susp\": \"suspension\"\n",
        "  }\n",
        "    # Replace last word with specified keywords\n",
        "  for keyword, replacement in replacements.items():\n",
        "    if medicine_name.endswith(\" \"+ keyword):\n",
        "      medicine_name = medicine_name[:-len(keyword)] + replacement\n",
        "      break\n",
        "  for key, value in replacements.items():\n",
        "    medicine_name = medicine_name.replace(\" \"+key+\" \", \" \"+value+\" \")\n",
        "\n",
        "  # Trim and return the standardized string\n",
        "  return medicine_name.strip()\n",
        "\n",
        "# Example usage\n",
        "input_string = \"Paracetamol soln 500mg tab\"\n",
        "standardized_string = standardize_medicine_name(input_string)\n",
        "print(standardized_string)"
      ],
      "metadata": {
        "colab": {
          "base_uri": "https://localhost:8080/"
        },
        "id": "NJ8NbSJcmWSQ",
        "outputId": "ee96b661-42ef-4559-cf17-6ad9f112fe7a"
      },
      "execution_count": null,
      "outputs": [
        {
          "output_type": "stream",
          "name": "stdout",
          "text": [
            "paracetamol solution 500mg tablets\n"
          ]
        }
      ]
    },
    {
      "cell_type": "markdown",
      "source": [
        "# **2: Codes Matching**\n",
        "Steps to match codes:\n",
        "1. Get Input Data\n",
        "  1. Get Supplier Name, Supplier Codes\n",
        "  2. Get PIP Code, Supplier Description\n",
        "2. Find a Supplier Template, get data\n",
        "3. Get All Templates CSV Data\n",
        "  1. Create CSV from Templates\n",
        "  2. Read existing CSV data\n",
        "4. Get PricelistExport Database\n",
        "5. Loop on Input Lines:\n",
        "  1. Find `Supplier Code` in Supplier Template\n",
        "  2. If blank, Find `PIP Code` in CSV Templates (which includes supplier tempate as well)\n",
        "  3. If blank, Find `PIP Code` in PricelistExport Database\n",
        "  4. If blank, Find `Supplier Description` in CSV Templates\n",
        "  5. If blank, Find `Supplier Description` in PricelistExport Database\n",
        "  6. If blank, Fuzzy Match `Supplier Description` with PricelistExport Database\n"
      ],
      "metadata": {
        "id": "8CuxiUuQsje7"
      }
    },
    {
      "cell_type": "markdown",
      "source": [
        "## **2.1: Reading Input data from Input file**"
      ],
      "metadata": {
        "id": "x9BEVA53zpte"
      }
    },
    {
      "cell_type": "code",
      "source": [
        "input_data = getSheetsData(id_inputFile,name_inputTab,'A1:Z',major_dimension='rows')\n",
        "header_input_data = input_data[0]\n",
        "#input_names = reArrangeCols(input_data,['Supplier Description'],flat=True)\n",
        "#print(input_names[:5])\n",
        "\n",
        "index_pip_code = header_input_data.index('pip code')\n",
        "index_supplier_description = header_input_data.index('supplier description')\n",
        "index_supplier_code = header_input_data.index('supplier code')\n",
        "index_internal_code = header_input_data.index('internal code')\n",
        "\n",
        "col_InternalCode = colAlphaNum(index_internal_code +1)\n",
        "col_Score = colAlphaNum(header_input_data.index('score')+1)\n",
        "col_MatchType = colAlphaNum(header_input_data.index('match type')+1)\n",
        "\n",
        "df_input_data = pd.DataFrame(input_data,columns=header_input_data)\n",
        "if 'supplier:' in header_input_data:\n",
        "  supplier_Name = header_input_data[header_input_data.index('supplier:') + 1]\n",
        "else:\n",
        "  supplier_Name = None\n",
        "print(f\"supplier_Name: {supplier_Name}\")"
      ],
      "metadata": {
        "colab": {
          "base_uri": "https://localhost:8080/"
        },
        "id": "qefjbfiH5hRU",
        "outputId": "7aa38fd2-5825-43f2-ab65-99beca6675c7"
      },
      "execution_count": null,
      "outputs": [
        {
          "output_type": "stream",
          "name": "stdout",
          "text": [
            "supplier_Name: dataplast\n"
          ]
        }
      ]
    },
    {
      "cell_type": "markdown",
      "source": [
        "##**2.2: Find A Supplier Template and Get Data**"
      ],
      "metadata": {
        "id": "sVjIrGJ52WY1"
      }
    },
    {
      "cell_type": "code",
      "source": [
        "template_Supplier = getFileName_inAFolder(supplier_Name,id_folder_templates,number_of_files=1)\n",
        "if template_Supplier:\n",
        "  template_Supplier = template_Supplier[0]\n",
        "  print(f\"template_Supplier:{template_Supplier}\")\n",
        "\n",
        "  template_Supplier_data = getSheetsData(template_Supplier[1],name_templateTab,'A1:Z')\n",
        "  print(template_Supplier_data[:5])\n",
        "\n",
        "  df_supplier_template = pd.DataFrame(template_Supplier_data[1:],columns=template_Supplier_data[0])\n",
        "  print(df_supplier_template.head(5))\n",
        "\n",
        "  df_supplier_template.set_index('supplier code', inplace=True)\n",
        "else:\n",
        "  df_supplier_template = pd.DataFrame()"
      ],
      "metadata": {
        "colab": {
          "base_uri": "https://localhost:8080/"
        },
        "id": "oQO6nopF2uF8",
        "outputId": "bacc45af-365c-457a-9223-5d808e5ad530"
      },
      "execution_count": null,
      "outputs": [
        {
          "output_type": "stream",
          "name": "stdout",
          "text": [
            "template_Supplier:['Dataplast', '1dKfI63MlL3boKOTRVrcD92sHsQqBA47kydfv4nEo-Qk']\n",
            "[['internal code', 'supplier code', 'product', 'price1', 'supplier1', 'price2', 'supplier2', 'usage1', 'dtprice', 'cdcat', 'fridge', 'verify'], ['', '', '1 a1 calcium 1.25g chewable tablets s/f 100', '£3.46', 'aah', '£3.48', 'unichem', '1', '0'], ['', '', '1 a1 calcium d3 400iu/1.25g chewable tablets 100', '£4.33', 'aah', '£4.33', 'unichem', '1', '0'], ['', '', '1 a1 calcium d3 400iu/1.25g chewable tablets 60', '£2.60', 'unichem', '£3.03', 'aah', '0', '0'], ['', '', '1 a1 calcium d3 400iu/1.5g chewable tablets 112', '£4.25', 'aah', '£4.28', 'unichem', '0', '0']]\n",
            "  internal code supplier code  \\\n",
            "0                               \n",
            "1                               \n",
            "2                               \n",
            "3                               \n",
            "4                               \n",
            "\n",
            "                                            product price1 supplier1 price2  \\\n",
            "0       1 a1 calcium 1.25g chewable tablets s/f 100  £3.46       aah  £3.48   \n",
            "1  1 a1 calcium d3 400iu/1.25g chewable tablets 100  £4.33       aah  £4.33   \n",
            "2   1 a1 calcium d3 400iu/1.25g chewable tablets 60  £2.60   unichem  £3.03   \n",
            "3   1 a1 calcium d3 400iu/1.5g chewable tablets 112  £4.25       aah  £4.28   \n",
            "4    1 a1 calcium d3 400iu/1.5g chewable tablets 56  £2.02   phoenix  £2.18   \n",
            "\n",
            "  supplier2 usage1 dtprice cdcat fridge verify  \n",
            "0   unichem      1       0  None   None   None  \n",
            "1   unichem      1       0  None   None   None  \n",
            "2       aah      0       0  None   None   None  \n",
            "3   unichem      0       0  None   None   None  \n",
            "4       aah      0       0  None   None   None  \n"
          ]
        }
      ]
    },
    {
      "cell_type": "markdown",
      "source": [
        "## **2.3: Get All Templates CSV Data**"
      ],
      "metadata": {
        "id": "Lj0il1wW8Ik4"
      }
    },
    {
      "cell_type": "markdown",
      "source": [
        "### **2.3.1: Create CSV from Templates**"
      ],
      "metadata": {
        "id": "RwGFLgGn8buu"
      }
    },
    {
      "cell_type": "code",
      "source": [
        "completedTemplates = []\n",
        "allData_Templates = [['internal code','pip code','supplier description']]\n",
        "id_allDataCSV = get_or_create_file(drive_service, id_folder_templates, name_CSV,'text/csv')"
      ],
      "metadata": {
        "colab": {
          "base_uri": "https://localhost:8080/"
        },
        "id": "vfWmXROyQiyh",
        "outputId": "1505aed7-1d94-4799-a507-ab1829dbc44f"
      },
      "execution_count": null,
      "outputs": [
        {
          "output_type": "stream",
          "name": "stdout",
          "text": [
            "file 'allTemplatesData' found in the folder with ID '105WtQwhjXQ2pBAg9f0vMJR8BYeM6gqXO'. File ID: 1ni4EtmdGc1a5UtG7LdSrNjwB-p5yu4qY\n"
          ]
        }
      ]
    },
    {
      "cell_type": "code",
      "source": [
        "# Check if the user wants to process the step\n",
        "if option_createCSV.lower() == 'y':\n",
        "  # Process the step\n",
        "  print(\"Processing Templates to create CSV\")\n",
        "\n",
        "  templates = getFileIDs_inAFolder(id_folder_templates)\n",
        "  print(templates)\n",
        "  header = allData_Templates[0]\n",
        "  for index,template in enumerate(templates):\n",
        "    #try:\n",
        "      print(f\"                                          \")\n",
        "      print(f\"-----------------------------------------\")\n",
        "      print(f\"index:{index}, {template}\")\n",
        "      #if index==5:\n",
        "      #  break\n",
        "      if template[1] in completedTemplates:\n",
        "        print('Skip')\n",
        "        continue\n",
        "      else:\n",
        "        #print(template)\n",
        "        sheetData = getSheetsData(template[1],name_templateTab,'A1:Z','rows')\n",
        "        if not sheetData:\n",
        "          continue\n",
        "        sheetData = reArrangeCols(sheetData,header)\n",
        "        print(sheetData[:5])\n",
        "        allData_Templates.extend(sheetData[1:])\n",
        "        update_csv(id_allDataCSV, allData_Templates)\n",
        "        completedTemplates.append(template[1])\n",
        "    #except Exception as e:\n",
        "        #print(f\"An error occurred: {e}\")\n",
        "else:\n",
        "  # Skip the step\n",
        "  print(\"Skip the creating CSV step.\")"
      ],
      "metadata": {
        "colab": {
          "base_uri": "https://localhost:8080/"
        },
        "id": "MvbQF05mFqie",
        "outputId": "9fc7dcfe-1026-4eb1-a1e8-a55cce8e23ba"
      },
      "execution_count": null,
      "outputs": [
        {
          "output_type": "stream",
          "name": "stdout",
          "text": [
            "Do you want to create CSV from Templates files? (y/n): y\n",
            "Processing Templates to create CSV\n",
            "[['Drugs R Us', '1tEqitYNlkZNDUAK03dWSD35VXdj0t6bx1HeNi3kzTsU'], ['Dataplast', '1dKfI63MlL3boKOTRVrcD92sHsQqBA47kydfv4nEo-Qk'], ['Day Lewis', '1MQ_EUusqS5Nmw3fJk8JkqWUG84d2Fvxt5xsluwfVP4I'], ['Sample Supplier', '11UEIroUdzDVSxtE8K_FvEh5_na2h8n9fQEUPkkEG8_Y'], ['A1', '1xbSmMRaP_hiCxd0T2llUEXuMXP5q1IRoO-p8v3vEwkw'], ['Bestway', '16SUgJndTgLvK33gdqUvRMfZ1yNUE3kcvDaZJCZq37gc'], ['Astute', '1oLoMHiaaGRJs0qjaT1I1KG7VucIsSOvXJOhVrlyEE18'], ['Medihealth', '1DueaAz6YpR_ZO8BX2tHnjanIbqaMTjmqAr9KiIX1JKs'], ['Nupharm', '1Ucs65ufoqY7C0PCS4ramu0S4eF-T-0kCA-LzyE4O_HA'], ['AAH Generics', '1IvAVt_2i_n-JKK0o6Od32P1NazocCVjpLG9SDFK2kDI'], ['Alliance Netgen', '10CUJfUvTvO6TCP2oC12YVJZ-itIM-pfKD_tQ0taiRpk'], ['AAH Net Price', '1KE2-7Pqc3BwtInn225cYSqWJaHfNG8ATI7p89STprdo'], ['Smartways', '1zdkO3IwxGIIbC4jLf84GjB2Y_wquwQP4HPrRTIUjCjA'], ['Colorama', '1Wc2llbgEmxUMoUsPXYAS8U762LwULd6qpewbyHzV1mU'], ['Pura', '1kP7QG5Lo1OCCU7fMl3RPKjf7cuHLpqSp__tmASNpUqI'], ['Ethigen', '1TZI_kt2KeFG1NJEC-HEPlvc-bDrqwW9OTOmqtiGpYhg'], ['Doncaster', '1kqFLbJgBXA48SW4IrmOZ7g-71MeYaP7nWXWIDTwk3uE'], ['CST', '1t432DpwmmIYjNG2weKnpNNtMb93uBQOVuFNwPLkWPP0'], ['Target', '1ndTMQ-QlrTc-IQO8_a9i6SLxZF1ofWT3rYuJIcVw8HM'], ['OTC Direct', '17PS9CXr-4Rss8477dngDFH47X6QwN8UL7t_nnTwl-Fo'], ['Cavendish', '12SUXl2STDYlvsUg9GA4MW8Y7Ix2wryoQGjCBmJ0K7tY'], ['Aver', '1jnyL0rSvYTAUKRCXyc8J3Co3PzEv_Vqrffzv5aXxp4A'], ['BETA', '1MgH-VH5Vodnnwz7uZuyyqZU6Rm4_8o64-PqbIfoghoE'], ['Metropharm', '18X6uxZ394Ex9gafTmhPKmGbRPgskqdayEV-86WcYWGM'], ['Purepharm', '1vLMW9josPEdxeOFjEzeIYesiTHFrAySMV5WTCwBmo3g'], ['Trident', '1VNHxT7GZroysfEzFXoIGydA9keAwa3NuKNH4JzyviY8'], ['Priya', '1SaJyQWpEQ8AdIAfR49hQUvckQI5Rn31-YxT9LI5lYXQ'], ['Lexon', '1G5K_TeooQA36mGgjh7TZ-cyQg0MxZ5CG7c6GwwyyMaA'], ['MDS', '11fqAmSJfipQCwt2q82oZ5MQ_D74DgX0Yc_YGsO7Ow2A'], ['Horton Codes Template', '1IW-48bVs1vWwSbwe4V9v3av_lJvv7tyb3GuBJysLc2s'], ['Chemilines', '1AyR_2gNSRHx0HIz7FHYlPIL0b1PXeGfGAhIvwLV1ULM'], ['BSA Data', '1Ff-HOmfYyzNNF6NXJA6uHFp4g0_nB83phR5OaWDzGZ8'], ['Sigma', '11JjVvl7JaDeuGr7AgwAJ2zsjMAqOpRDFNctTOZOHTiY'], ['KAL Codes', '1Im_KgyyshBhmWxabzYf38hl0judYA6hHuiu7Ffx3sjI'], ['Carnforth Codes Match', '1e23KMWgBpDdIsIbYFVK4cT7tmcXUDlGCSzk_haBMRBQ'], ['Pharmaease', '1le9YtRodSJOTfDljhDA0M8cqqIgU6sf0HpQjYKvIAno'], ['Pharmacy Friends', '1hRigA8zYCtjYtCdumg3kj89xGjPNPy4U3CtCzq3bnvA'], ['JCL codes Template', '1EN27T5Gsh8AXHIdNw594ozfm3g0cyg-S7C8aIBUW8iM'], ['SPL codes Template', '1ZA_x7PVtMISWlJ7BhnGTDnb1K7KuDhPMHRUAOrdKEC0'], ['NHSBSA', '171qnpl3QoswkiS-di6xTnmXntscaFFbh_inByByB6Ck'], ['Clarity', '12UbQBXLIWnGDaj5DIuIDyHDS5TXW69gKsIp8btPiTuc'], ['Phoenix', '1WEehRLfgfoBujzrob0akhaCtuBUQTLvHi1XvnV5DagE'], ['TEVA', '1L37U7PZaY2M7-vdjHA4k_dzoxJVerst1Mc77QJaZPTo'], ['PIP Codes', '1m3SHQwkBuum8dFNKnyA4ojWo6WyKrhxubIJWqgO0_l4'], ['Accord', '1b55jGzePyKmA7kIuILbFwmqr3n45HeBYgi11ZCqV34E'], ['Kent', '1XZubmoEGF7sFBQWLHW8DBN4n2iSXiiT8n6zzrIFHq3I'], ['EMT Friends', '16I7AVsIoWzI2KPnCh_6tDc7pAa2s7_sLLrQQTRPbdcA'], ['Avicenna', '147v5WuJEjQOHz3_L4s4cI7rcJpRO1vTKm4FovO45Nlk'], ['Drug Comparison', '1wBLqCQn-gQqTqkekEsS4ZxnNAQHGfs9UjsV_VW6ZVJI'], ['Bowness Robot Usage File', '1UfCXF-EH3y_q1Askj0uljHA_CyCe4vfCpvOtrT5W6ro'], ['eCass', '1R7-qqqvJ08zpf_Ei7AsIhrA8g9pjsVsvHKcuWAMImcA'], ['Meanwood', '1j1_HDtSst_Z2sjXHem16l5LTEIa4B6bMCdGJEq2LidI'], ['Ionic', '1O53ruKwBXQWFzS8AQL2yJ7vl1ok6-gxYXls7xXYu4Qk'], ['Glenmark', '1XbdbNxAklDdnvZLheKDEOu9Ne-zZCnZ-iX42_-kYKqU'], ['DE', '1DB97LzAPNZWgz70-Yk0OGbXePCdczK79BHCZXMH1APw'], ['Crescent', '1A3niBL-VS1o3lUh_6ttvmZV2X0HvZv00wFHiOCBiTKg'], ['Optimise Cascade', '1jOX3pXFgL0wiIo85EHMgQUFjwr4aKcFvAu4KwV1z6Yk'], ['AAH Surgical Net Price', '1O8ArrHQsoSoRWKvOFpaeYa9m5wcvpH_OPUIqDJQD2o8']]\n",
            "                                          \n",
            "-----------------------------------------\n",
            "index:0, ['Drugs R Us', '1tEqitYNlkZNDUAK03dWSD35VXdj0t6bx1HeNi3kzTsU']\n",
            "header Data ['internal code', 'supplier code', 'supplier description', 'pip code', 'score', 'match type', 'verify', 'product name (uk)', 'branded g / generic', 'pack size', 'shipper size', 'stock', 'list price', 'customer code', 'quantity']\n",
            "Header matched with Data, list_indices_result: [0, 3, 2]\n",
            "[['internal code', 'pip code', 'supplier description'], ['abas100kpen5', '4025029', 'abasaglar kwik pen 100u/ml 5x3ml'], ['abil10mgtab28', '', 'abilify 10mg tabs x 28'], ['abil15mgtab28', '3051471', 'abilify 15mg tabs x 28'], ['abil5mgtab28', '3126091', 'abilify 5mg tabs x 28']]\n",
            "Data updated successfully in the file with ID '1ni4EtmdGc1a5UtG7LdSrNjwB-p5yu4qY'.\n",
            "                                          \n",
            "-----------------------------------------\n",
            "index:1, ['Dataplast', '1dKfI63MlL3boKOTRVrcD92sHsQqBA47kydfv4nEo-Qk']\n",
            "header Data ['internal code', 'supplier code', 'product', 'price1', 'supplier1', 'price2', 'supplier2', 'usage1', 'dtprice', 'cdcat', 'fridge', 'verify']\n",
            "Header matched with Data, list_indices_result: [0, None, None]\n",
            "[['internal code', 'pip code', 'supplier description'], ['', None, None], ['', None, None], ['', None, None], ['', None, None]]\n",
            "Data updated successfully in the file with ID '1ni4EtmdGc1a5UtG7LdSrNjwB-p5yu4qY'.\n",
            "                                          \n",
            "-----------------------------------------\n",
            "index:2, ['Day Lewis', '1MQ_EUusqS5Nmw3fJk8JkqWUG84d2Fvxt5xsluwfVP4I']\n",
            "header Data ['internal code', 'supplier code', 'supplier description', 'pack size', 'pip code', 'verify item', 'score', 'match type']\n",
            "Header matched with Data, list_indices_result: [0, 4, 2]\n",
            "[['internal code', 'pip code', 'supplier description'], ['acam333tab16', '', 'acamprosate gr tablets 333mg 168'], ['acar100mgtab90', '', 'acarbose tablets 100mg 90'], ['acar50mgtab90', '', 'acarbose tablets 50mg 90'], ['acec100mgtab60', '', 'aceclofenac tabs 100mg 60']]\n",
            "Data updated successfully in the file with ID '1ni4EtmdGc1a5UtG7LdSrNjwB-p5yu4qY'.\n",
            "                                          \n",
            "-----------------------------------------\n",
            "index:3, ['Sample Supplier', '11UEIroUdzDVSxtE8K_FvEh5_na2h8n9fQEUPkkEG8_Y']\n",
            "header Data ['catalog no.', 'supplier code', 'internal code', 'supplier description', 'pack size', 'class', 'price', 'verify']\n",
            "Header matched with Data, list_indices_result: [2, None, 3]\n",
            "[['internal code', 'pip code', 'supplier description'], ['acam333tab16', None, 'acamprosate calcium gr tab 333mg'], ['acar50mgtab90', None, 'acarbose tablets  50mg'], ['', None, 'acarbose tablets 100mg'], ['acar100mgtab90', None, 'acarbose tablets 100mg #']]\n",
            "Data updated successfully in the file with ID '1ni4EtmdGc1a5UtG7LdSrNjwB-p5yu4qY'.\n",
            "                                          \n",
            "-----------------------------------------\n",
            "index:4, ['A1', '1xbSmMRaP_hiCxd0T2llUEXuMXP5q1IRoO-p8v3vEwkw']\n",
            "header Data ['internal code', 'supplier code', 'supplier description', 'tradeprice', 'outer', 'price', 'single price', '%']\n",
            "Header matched with Data, list_indices_result: [0, None, 2]\n",
            "[['internal code', 'pip code', 'supplier description'], ['ayme3749579', None, 'aymes complete banana 200ml'], ['ayme3749553', None, 'aymes complete chocolate 200ml'], ['ayme3749587', None, 'aymes complete vanilla 200ml'], ['ayme3749033', None, 'aymes shake sachets banana 57g 7']]\n",
            "Data updated successfully in the file with ID '1ni4EtmdGc1a5UtG7LdSrNjwB-p5yu4qY'.\n",
            "                                          \n",
            "-----------------------------------------\n",
            "index:5, ['Bestway', '16SUgJndTgLvK33gdqUvRMfZ1yNUE3kcvDaZJCZq37gc']\n",
            "header Data ['internal code', 'supplier code', 'catalog no.', 'supplier description', 'pack size', 'class', 'price', 'concatenate', 'codes', 'match', 'description']\n",
            "Header matched with Data, list_indices_result: [0, None, 3]\n",
            "[['internal code', 'pip code', 'supplier description'], ['acam333tab16', None, 'acamprosate calcium gr tab 333mg'], ['acar50mgtab90', None, 'acarbose tablets  50mg'], ['acar100mgtab90', None, 'acarbose tablets 100mg #'], ['acec100mgtab60', None, 'aceclofenac tablets 100mg']]\n",
            "Data updated successfully in the file with ID '1ni4EtmdGc1a5UtG7LdSrNjwB-p5yu4qY'.\n",
            "                                          \n",
            "-----------------------------------------\n",
            "index:6, ['Astute', '1oLoMHiaaGRJs0qjaT1I1KG7VucIsSOvXJOhVrlyEE18']\n",
            "An error occurred: 'values'\n",
            "                                          \n",
            "-----------------------------------------\n",
            "index:7, ['Medihealth', '1DueaAz6YpR_ZO8BX2tHnjanIbqaMTjmqAr9KiIX1JKs']\n",
            "header Data ['internal code', 'supplier code', 'supplier description', 'portfolio', 'cost', 'verify']\n",
            "Header matched with Data, list_indices_result: [0, None, 2]\n",
            "[['internal code', 'pip code', 'supplier description'], ['x', None, '4head topical headache relief stick   3.6'], ['x', None, 'a&d slimfit large cuff - arm circumference 31cm to 45cm'], ['x', None, 'abidec advanced syrup 150ml'], ['abil4006441', None, 'abilify maintena vial 400mg 1']]\n",
            "Data updated successfully in the file with ID '1ni4EtmdGc1a5UtG7LdSrNjwB-p5yu4qY'.\n",
            "                                          \n",
            "-----------------------------------------\n",
            "index:8, ['Nupharm', '1Ucs65ufoqY7C0PCS4ramu0S4eF-T-0kCA-LzyE4O_HA']\n",
            "header Data ['internal code', 'phoenix', 'supplier description', 'pack size', 'pip', 'class', 'price']\n",
            "Header matched with Data, list_indices_result: [0, None, 2]\n",
            "[['internal code', 'pip code', 'supplier description'], ['-', None, '365 trans drss f/adh 10x12cm 90008  50'], ['-', None, '4head  3.6g'], ['-', None, '4head quickstrip  4'], ['-', None, 'a.vogel echinaforce drops  15ml']]\n",
            "Data updated successfully in the file with ID '1ni4EtmdGc1a5UtG7LdSrNjwB-p5yu4qY'.\n",
            "                                          \n",
            "-----------------------------------------\n",
            "index:9, ['AAH Generics', '1IvAVt_2i_n-JKK0o6Od32P1NazocCVjpLG9SDFK2kDI']\n",
            "header Data ['internal code', 'supplier code', 'supplier description', 'pack size', 'pip code', 'price']\n",
            "Header matched with Data, list_indices_result: [0, 4, 2]\n",
            "[['internal code', 'pip code', 'supplier description'], ['acam333tab16', '1209931', 'acamprosate tablets 333mg'], ['acar100mgtab90', '1183714', 'acarbose tab 100mg'], ['acar50mgtab90', '1183722', 'acarbose tab 50mg'], ['acec100mgtab60', '1135839', 'aceclofenac tab 100mg']]\n",
            "Data updated successfully in the file with ID '1ni4EtmdGc1a5UtG7LdSrNjwB-p5yu4qY'.\n",
            "                                          \n",
            "-----------------------------------------\n",
            "index:10, ['Alliance Netgen', '10CUJfUvTvO6TCP2oC12YVJZ-itIM-pfKD_tQ0taiRpk']\n",
            "header Data ['internal code', 'supplier code', 'description', 'strength', 'pack size', 'price']\n",
            "Header matched with Data, list_indices_result: [0, None, None]\n",
            "[['internal code', 'pip code', 'supplier description'], ['acam333tab16', None, None], ['acar100mgtab90', None, None], ['acar50mgtab90', None, None], ['aceb400mgtab28', None, None]]\n",
            "Data updated successfully in the file with ID '1ni4EtmdGc1a5UtG7LdSrNjwB-p5yu4qY'.\n",
            "                                          \n",
            "-----------------------------------------\n",
            "index:11, ['AAH Net Price', '1KE2-7Pqc3BwtInn225cYSqWJaHfNG8ATI7p89STprdo']\n",
            "header Data ['internal code', 'product code', 'ean code', 'pip code', 'description', 'pack size', 'ean code', 'product category', 'net price', 'verify']\n",
            "Header matched with Data, list_indices_result: [0, 3, None]\n",
            "[['internal code', 'pip code', 'supplier description'], ['acto5mgtab28', '2701084', None], ['x', '4178299', None], ['ayme4164729', '4164729', None], ['x', '3996790', None]]\n",
            "Data updated successfully in the file with ID '1ni4EtmdGc1a5UtG7LdSrNjwB-p5yu4qY'.\n",
            "                                          \n",
            "-----------------------------------------\n",
            "index:12, ['Smartways', '1zdkO3IwxGIIbC4jLf84GjB2Y_wquwQP4HPrRTIUjCjA']\n",
            "header Data ['internal code', 'supplier code', 'supplier description', 'pack size', 'pip code', 'price', 'verify']\n",
            "Header matched with Data, list_indices_result: [0, 4, 2]\n",
            "[['internal code', 'pip code', 'supplier description'], ['abil10mgtab28', '', 'abilify tab 10mg (28)-pi'], ['accucheckavi50', '', 'accu-chek aviva bld t/strip (50)'], ['accucheckavi50', '', 'accu-chek aviva bld t/strip (50)'], ['x', '', 'accu-chek aviva control sol 5ml 2x2.5ml (1)']]\n",
            "Data updated successfully in the file with ID '1ni4EtmdGc1a5UtG7LdSrNjwB-p5yu4qY'.\n",
            "                                          \n",
            "-----------------------------------------\n",
            "index:13, ['Colorama', '1Wc2llbgEmxUMoUsPXYAS8U762LwULd6qpewbyHzV1mU']\n",
            "header Data ['internal code', 'supplier code', 'pip', 'supplier description', 'category', 'price']\n",
            "Header matched with Data, list_indices_result: [0, None, 3]\n",
            "[['internal code', 'pip code', 'supplier description'], ['bupr04mgsub7', None, 'buprenorphine 0.4mg tablets ---- 7s'], ['', None, 'buprenorphine 10mg/hr trans patch 7d'], ['', None, 'buprenorphine 20mg/hr trans patch 7d'], ['bupr2mgsub7', None, 'buprenorphine 2mg tablets ---- 7s']]\n",
            "Data updated successfully in the file with ID '1ni4EtmdGc1a5UtG7LdSrNjwB-p5yu4qY'.\n",
            "                                          \n",
            "-----------------------------------------\n",
            "index:14, ['Pura', '1kP7QG5Lo1OCCU7fMl3RPKjf7cuHLpqSp__tmASNpUqI']\n",
            "header Data ['internal code', 'pip', 'supplier description', 'cost']\n",
            "Header matched with Data, list_indices_result: [0, None, 2]\n",
            "[['internal code', 'pip code', 'supplier description'], ['acc10gtab30', None, 'accrete d3 1000mg/880iu chew+d2:f332able tablets blister strips x 30'], ['acc10gtab30', None, 'accrete d3 1000mg/880iu chewable tablets blister strips x 30'], ['acc15gtab60', None, 'accrete d3 film-coated tablets x 60'], ['acc15gtab60', None, 'accrete d3 film-coated tablets x 60']]\n",
            "Data updated successfully in the file with ID '1ni4EtmdGc1a5UtG7LdSrNjwB-p5yu4qY'.\n",
            "                                          \n",
            "-----------------------------------------\n",
            "index:15, ['Ethigen', '1TZI_kt2KeFG1NJEC-HEPlvc-bDrqwW9OTOmqtiGpYhg']\n",
            "header Data ['internal code', 'supplier code', 'supplier description', 'pack size', 'pip', 'class', 'price', 'new', '', 'match']\n",
            "Header matched with Data, list_indices_result: [0, None, 2]\n",
            "[['internal code', 'pip code', 'supplier description'], ['acam333tab16', None, 'acamprosate 333mg tablets (168)'], ['acar100mgtab90', None, 'acarbose 100mg tablets (90)'], ['acar50mgtab90', None, 'acarbose 50mg tablets (90)'], ['acc10gtab30', None, 'accrete d3 1000mg/880iu one a day chewable tablets (30)']]\n",
            "Data updated successfully in the file with ID '1ni4EtmdGc1a5UtG7LdSrNjwB-p5yu4qY'.\n",
            "                                          \n",
            "-----------------------------------------\n",
            "index:16, ['Doncaster', '1kqFLbJgBXA48SW4IrmOZ7g-71MeYaP7nWXWIDTwk3uE']\n",
            "header Data ['internal code', 'supplier code', 'supplier description', 'pack size', 'pip code']\n",
            "Header matched with Data, list_indices_result: [0, 4, 2]\n",
            "[['internal code', 'pip code', 'supplier description'], ['', None, 'acamprosate calcium 333mg tablets (rebox) (pi) 168s'], ['', None, 'accu-chek guide test strips (pi) 50s'], ['', None, 'acti-fast blue 7.5cm x 3m 1s'], ['', None, 'acti-wrap bandage latex free 10cmx4m 1s']]\n",
            "Data updated successfully in the file with ID '1ni4EtmdGc1a5UtG7LdSrNjwB-p5yu4qY'.\n",
            "                                          \n",
            "-----------------------------------------\n",
            "index:17, ['CST', '1t432DpwmmIYjNG2weKnpNNtMb93uBQOVuFNwPLkWPP0']\n",
            "header Data ['internal code', 'supplier code', 'supplier description', 'pack size', 'pip code']\n",
            "Header matched with Data, list_indices_result: [0, 4, 2]\n",
            "[['internal code', 'pip code', 'supplier description'], ['abas100kpen5', None, \"abasaglar kwikpen 100iu/ml (fridge)' 5x3ml' pi\"], ['abil1mgmora150', None, \"abilify 1mg/ml oral solution' 150ml' pi\"], ['accucheckavi50', None, \"accu-chek aviva glucose test strips (md)' 50' uk\"], ['accu3512795', None, \"accu-chek fastclix lancets 0.3mm/30g' 204' uk\"]]\n",
            "Data updated successfully in the file with ID '1ni4EtmdGc1a5UtG7LdSrNjwB-p5yu4qY'.\n",
            "                                          \n",
            "-----------------------------------------\n",
            "index:18, ['Target', '1ndTMQ-QlrTc-IQO8_a9i6SLxZF1ofWT3rYuJIcVw8HM']\n",
            "header Data ['internal code', 'target', 'supplier description', 'target old code', 'match']\n",
            "Header matched with Data, list_indices_result: [0, None, 2]\n",
            "[['internal code', 'pip code', 'supplier description'], ['morp10mgora100', None, '100ml - morphine oral solution 10mg 5ml **cd sch 2**'], ['morp10mgora300', None, '300ml - morphine oral solution 10mg 5ml **cd sch 2**'], ['morp10mgora500', None, '500ml - morphine oral solution 10mg 5ml **sch 2**'], ['acam333tab16', None, 'acamprosate 333mg gr tablets (168)']]\n",
            "Data updated successfully in the file with ID '1ni4EtmdGc1a5UtG7LdSrNjwB-p5yu4qY'.\n",
            "                                          \n",
            "-----------------------------------------\n",
            "index:19, ['OTC Direct', '17PS9CXr-4Rss8477dngDFH47X6QwN8UL7t_nnTwl-Fo']\n",
            "header Data ['internal code', 'supplier code', 'almus', 'pip code', 'product description', 'pack size', 'price', 'category']\n",
            "Header matched with Data, list_indices_result: [0, 3, None]\n",
            "[['internal code', 'pip code', 'supplier description'], ['acam333tab16', '8443210', None], ['acar100mgtab90', '8437410', None], ['acar50mgtab90', '8437428', None], ['acec100mgtab60', '8415457', None]]\n",
            "Data updated successfully in the file with ID '1ni4EtmdGc1a5UtG7LdSrNjwB-p5yu4qY'.\n",
            "                                          \n",
            "-----------------------------------------\n",
            "index:20, ['Cavendish', '12SUXl2STDYlvsUg9GA4MW8Y7Ix2wryoQGjCBmJ0K7tY']\n",
            "header Data ['internal code', 'supplier code', 'supplier description', 'pack size', 'pip code', 'class', 'price']\n",
            "Header matched with Data, list_indices_result: [0, 4, 2]\n",
            "[['internal code', 'pip code', 'supplier description'], ['acam333tab16', '8443210', 'acamprosate fc tab 333mg'], ['acar100mgtab90', '8437410', 'acarbose tabs 100mg'], ['acar50mgtab90', '8437428', 'acarbose tabs 50mg'], ['acec100mgtab60', '8415457', 'aceclofenac tabs 100mg']]\n",
            "Data updated successfully in the file with ID '1ni4EtmdGc1a5UtG7LdSrNjwB-p5yu4qY'.\n",
            "                                          \n",
            "-----------------------------------------\n",
            "index:21, ['Aver', '1jnyL0rSvYTAUKRCXyc8J3Co3PzEv_Vqrffzv5aXxp4A']\n",
            "header Data ['internal code', 'supplier code', 'supplier description', 'pack size', 'pip code']\n",
            "Header matched with Data, list_indices_result: [0, 4, 2]\n",
            "[['internal code', 'pip code', 'supplier description'], ['acam333tab16', None, 'acamprosate tabs 333mg / 168'], ['acar100mgtab90', None, 'acarbose tabs 100mg / 90'], ['acar50mgtab90', None, 'acarbose tabs 50mg / 90'], ['accu4162087', None, 'accu-chek guide test strips / 50']]\n",
            "Data updated successfully in the file with ID '1ni4EtmdGc1a5UtG7LdSrNjwB-p5yu4qY'.\n",
            "                                          \n",
            "-----------------------------------------\n",
            "index:22, ['BETA', '1MgH-VH5Vodnnwz7uZuyyqZU6Rm4_8o64-PqbIfoghoE']\n",
            "header Data ['internal code', 'supplier code', 'item', '', 'price']\n",
            "Header matched with Data, list_indices_result: [0, None, None]\n",
            "[['internal code', 'pip code', 'supplier description'], ['acar100mgtab90', None, None], ['acar50mgtab90', None, None], ['acet250mgtab112', None, None], ['acet600mgcap30', None, None]]\n",
            "Data updated successfully in the file with ID '1ni4EtmdGc1a5UtG7LdSrNjwB-p5yu4qY'.\n",
            "                                          \n",
            "-----------------------------------------\n",
            "index:23, ['Metropharm', '18X6uxZ394Ex9gafTmhPKmGbRPgskqdayEV-86WcYWGM']\n",
            "header Data ['internal code', 'supplier code', 'supplier description', 'pip code', 'price', 'verify']\n",
            "Header matched with Data, list_indices_result: [0, 3, 2]\n",
            "[['internal code', 'pip code', 'supplier description'], ['acic5wcre10g', None, 'aciclovir 5% cream 10gm'], ['acic200mgtab25', None, 'aciclovir tablets 200mg 25'], ['acic400mgtab56', None, 'aciclovir tablets 400mg 56'], ['adcacap112', None, \"adcal-d3 caplets 750mg/200iu 112's\"]]\n",
            "Data updated successfully in the file with ID '1ni4EtmdGc1a5UtG7LdSrNjwB-p5yu4qY'.\n",
            "                                          \n",
            "-----------------------------------------\n",
            "index:24, ['Purepharm', '1vLMW9josPEdxeOFjEzeIYesiTHFrAySMV5WTCwBmo3g']\n",
            "header Data ['internal code', 'supplier code', 'supplier description', 'code']\n",
            "Header matched with Data, list_indices_result: [0, None, 2]\n",
            "[['internal code', 'pip code', 'supplier description'], ['acam333tab16', None, 'acamprosate 333mg tablets (168)'], ['acar50mgtab90', None, 'acarbose 50mg tablets (90)'], ['acet250mgtab112', None, 'acetazolamide 250mg tablets (112)'], ['acic200mgtab25', None, 'aciclovir 200mg tablets (25)']]\n",
            "Data updated successfully in the file with ID '1ni4EtmdGc1a5UtG7LdSrNjwB-p5yu4qY'.\n",
            "                                          \n",
            "-----------------------------------------\n",
            "index:25, ['Trident', '1VNHxT7GZroysfEzFXoIGydA9keAwa3NuKNH4JzyviY8']\n",
            "header Data ['internal code', 'trident', 'supplier description', 'pack size', 'pip', 'price']\n",
            "Header matched with Data, list_indices_result: [0, None, 2]\n",
            "[['internal code', 'pip code', 'supplier description'], ['acam333tab16', None, 'acamprosate tablets 333mg [tri]'], ['acar50mgtab90', None, 'acarbose tab 50mg [tri]'], ['acar100mgtab90', None, 'acarbose tab 100mg [tri]'], ['acet250mgtab112', None, 'acetazolamide tab 250mg [tri]']]\n",
            "Data updated successfully in the file with ID '1ni4EtmdGc1a5UtG7LdSrNjwB-p5yu4qY'.\n",
            "                                          \n",
            "-----------------------------------------\n",
            "index:26, ['Priya', '1SaJyQWpEQ8AdIAfR49hQUvckQI5Rn31-YxT9LI5lYXQ']\n",
            "header Data ['internal code', 'supplier code', 'item', 'pack size', 'pip code']\n",
            "Header matched with Data, list_indices_result: [0, 4, None]\n",
            "[['internal code', 'pip code', 'supplier description']]\n",
            "Data updated successfully in the file with ID '1ni4EtmdGc1a5UtG7LdSrNjwB-p5yu4qY'.\n",
            "                                          \n",
            "-----------------------------------------\n",
            "index:27, ['Lexon', '1G5K_TeooQA36mGgjh7TZ-cyQg0MxZ5CG7c6GwwyyMaA']\n",
            "header Data ['internal code', 'supplier code', 'item name']\n",
            "Header matched with Data, list_indices_result: [0, None, None]\n",
            "[['internal code', 'pip code', 'supplier description'], ['acc10gtab30', None, None], ['acc15gtab60', None, None], ['accu3512795', None, None], ['accu4026324', None, None]]\n",
            "Data updated successfully in the file with ID '1ni4EtmdGc1a5UtG7LdSrNjwB-p5yu4qY'.\n",
            "                                          \n",
            "-----------------------------------------\n",
            "index:28, ['MDS', '11fqAmSJfipQCwt2q82oZ5MQ_D74DgX0Yc_YGsO7Ow2A']\n",
            "header Data ['internal code', 'supplier code', 'supplier description', 'pack size', 'pip code', 'price']\n",
            "Header matched with Data, list_indices_result: [0, 4, 2]\n",
            "[['internal code', 'pip code', 'supplier description'], ['x', '4192332', 'adaflex 1mg tablets 30s 4192332'], ['x', '4192340', 'adaflex 2mg tablets 30s 4192340'], ['x', '4192324', 'adaflex 4mg tablets 30s 4192324'], ['aero4060190', '4060190', 'aerochamber plus flow-vu vhc medium mask 1s']]\n",
            "Data updated successfully in the file with ID '1ni4EtmdGc1a5UtG7LdSrNjwB-p5yu4qY'.\n",
            "                                          \n",
            "-----------------------------------------\n",
            "index:29, ['Horton Codes Template', '1IW-48bVs1vWwSbwe4V9v3av_lJvv7tyb3GuBJysLc2s']\n",
            "header Data ['internal code', 'supplier description', 'supplier description refined', 'pack size', 'nhsbsa description', 'verify']\n",
            "Header matched with Data, list_indices_result: [0, None, 1]\n",
            "[['internal code', 'pip code', 'supplier description'], ['', None, 'atorvastatin 40mg tabs (28) aah'], ['', None, 'citalopram 10mg tabs (28) aah'], ['', None, 'citalopram 20mg tabs (28) aah'], ['', None, 'clopidogrel 75mg tabs (28) aah']]\n",
            "Data updated successfully in the file with ID '1ni4EtmdGc1a5UtG7LdSrNjwB-p5yu4qY'.\n",
            "                                          \n",
            "-----------------------------------------\n",
            "index:30, ['Chemilines', '1AyR_2gNSRHx0HIz7FHYlPIL0b1PXeGfGAhIvwLV1ULM']\n",
            "header Data ['internal code', 'stock code', 'type', 'description', 'price', 'target price', 'quantity', 'verify']\n",
            "Header matched with Data, list_indices_result: [0, None, None]\n",
            "[['internal code', 'pip code', 'supplier description'], ['accucheckper50', None, None], ['accucheckavi50', None, None], ['adcalemtab112', None, None], ['alfa025mcap30', None, None]]\n",
            "Data updated successfully in the file with ID '1ni4EtmdGc1a5UtG7LdSrNjwB-p5yu4qY'.\n",
            "                                          \n",
            "-----------------------------------------\n",
            "index:31, ['BSA Data', '1Ff-HOmfYyzNNF6NXJA6uHFp4g0_nB83phR5OaWDzGZ8']\n",
            "header Data ['product description', 'pack size', 'code', 'name', 'new code', 'new description']\n",
            "Header matched with Data, list_indices_result: [None, None, None]\n",
            "[['internal code', 'pip code', 'supplier description'], [None, None, None], [None, None, None], [None, None, None], [None, None, None]]\n",
            "Data updated successfully in the file with ID '1ni4EtmdGc1a5UtG7LdSrNjwB-p5yu4qY'.\n",
            "                                          \n",
            "-----------------------------------------\n",
            "index:32, ['Sigma', '11JjVvl7JaDeuGr7AgwAJ2zsjMAqOpRDFNctTOZOHTiY']\n",
            "header Data ['internal code', 'sigma', 'supplier description', 'pack', 'generics', 'code', 'concatenate']\n",
            "Header matched with Data, list_indices_result: [0, None, 2]\n",
            "[['internal code', 'pip code', 'supplier description'], ['acam333tab16', None, 'acamprosate gr 333mg tabs'], ['acar100mgtab90', None, 'acarbose 100mg tablets'], ['acar50mgtab90', None, 'acarbose 50mg tablets'], ['acec100mgtab60', None, 'aceclofenac 100mg tablets']]\n",
            "Data updated successfully in the file with ID '1ni4EtmdGc1a5UtG7LdSrNjwB-p5yu4qY'.\n",
            "                                          \n",
            "-----------------------------------------\n",
            "index:33, ['KAL Codes', '1Im_KgyyshBhmWxabzYf38hl0judYA6hHuiu7Ffx3sjI']\n",
            "header Data ['internal code', 'supplier code', 'supplier description', 'pack size', 'pip code', 'price', 'verify']\n",
            "Header matched with Data, list_indices_result: [0, 4, 2]\n",
            "[['internal code', 'pip code', 'supplier description'], ['anus025goin15g', '', 'anusol hc oint 15g'], ['anus025goin30g', '', 'anusol hc oint 30g'], ['anusreloint15', '', 'anusol soothing relief oint 15g'], ['anus2717981', '', 'anusol cream 43g']]\n",
            "Data updated successfully in the file with ID '1ni4EtmdGc1a5UtG7LdSrNjwB-p5yu4qY'.\n",
            "                                          \n",
            "-----------------------------------------\n",
            "index:34, ['Carnforth Codes Match', '1e23KMWgBpDdIsIbYFVK4cT7tmcXUDlGCSzk_haBMRBQ']\n",
            "header Data ['internal code', 'supplier code', 'supplier description', 'pack size', 'pip code', 'price', 'verify']\n",
            "Header matched with Data, list_indices_result: [0, 4, 2]\n",
            "[['internal code', 'pip code', 'supplier description'], ['acam333tab16', '', 'acamprosate 333mg gastro-resistant tablets total 168'], ['adiz120mgcap28', '', 'adizem-xl 120mg capsules total 28'], ['adiz180mgcap28', '', 'adizem-xl 180mg capsules total 28'], ['adiz240mgcap28', '', 'adizem-xl 240mg capsules total 28']]\n",
            "Data updated successfully in the file with ID '1ni4EtmdGc1a5UtG7LdSrNjwB-p5yu4qY'.\n",
            "                                          \n",
            "-----------------------------------------\n",
            "index:35, ['Pharmaease', '1le9YtRodSJOTfDljhDA0M8cqqIgU6sf0HpQjYKvIAno']\n",
            "header Data ['internal code', 'supplier code', 'supplier description', 'pack size', 'pip code', 'price', 'verify']\n",
            "Header matched with Data, list_indices_result: [0, 4, 2]\n",
            "[['internal code', 'pip code', 'supplier description'], ['accucheckavi50', '', 'accucheck aviva glucose test strips 50'], ['air125inh120', '', 'airflusal 25mcg/125mcg inh x 120d'], ['air250inh120', '', 'airflusal 25mcg/250mcg inh x 120d'], ['air500inh60', '', 'airflusal 50mcg/500mcg (airflusal forspiro)inh x 60d']]\n",
            "Data updated successfully in the file with ID '1ni4EtmdGc1a5UtG7LdSrNjwB-p5yu4qY'.\n",
            "                                          \n",
            "-----------------------------------------\n",
            "index:36, ['Pharmacy Friends', '1hRigA8zYCtjYtCdumg3kj89xGjPNPy4U3CtCzq3bnvA']\n",
            "header Data ['internal code', 'supplier code', 'supplier description', 'pack size', 'pip code', 'price', 'verify']\n",
            "Header matched with Data, list_indices_result: [0, 4, 2]\n",
            "[['internal code', 'pip code', 'supplier description'], ['alen70mgtab4', '', 'alendronic acid 70mg tablets 4'], ['allo100mgtab28', '', 'allopurinol 100mg tablets 28'], ['allo300mgtab28', '', 'allopurinol 300mg tablets 28'], ['amit10mgtab28', '', 'amitriptyline 10mg tablets 28']]\n",
            "Data updated successfully in the file with ID '1ni4EtmdGc1a5UtG7LdSrNjwB-p5yu4qY'.\n",
            "                                          \n",
            "-----------------------------------------\n",
            "index:37, ['JCL codes Template', '1EN27T5Gsh8AXHIdNw594ozfm3g0cyg-S7C8aIBUW8iM']\n",
            "header Data ['internal code', 'supplier description', 'verify']\n",
            "Header matched with Data, list_indices_result: [0, None, 1]\n",
            "[['internal code', 'pip code', 'supplier description'], ['acar50mgtab90', None, 'acarbose 50mg tablets 90'], ['acc10gtab30', None, 'accrete d3 one a day 1000mg/880unit chewable tablets 30'], ['acc15gtab60', None, 'accrete d3 tablets 60'], ['acet250mgtab112', None, 'acetazolamide 250mg tablets 112']]\n",
            "Data updated successfully in the file with ID '1ni4EtmdGc1a5UtG7LdSrNjwB-p5yu4qY'.\n",
            "                                          \n",
            "-----------------------------------------\n",
            "index:38, ['SPL codes Template', '1ZA_x7PVtMISWlJ7BhnGTDnb1K7KuDhPMHRUAOrdKEC0']\n",
            "header Data ['internal code', 'supplier description', 'verify']\n",
            "Header matched with Data, list_indices_result: [0, None, 1]\n",
            "[['internal code', 'pip code', 'supplier description'], ['adcacap112', None, 'adcal-d3 750mg/200unit caplets 112'], ['alen70mgtab4', None, 'alendronic acid 70mg tablets 4 tablet'], ['allo100mgtab28', None, 'allopurinol 100mg tablets 28 tablet'], ['allo300mgtab28', None, 'allopurinol 300mg tablets 28 tablet']]\n",
            "Data updated successfully in the file with ID '1ni4EtmdGc1a5UtG7LdSrNjwB-p5yu4qY'.\n",
            "                                          \n",
            "-----------------------------------------\n",
            "index:39, ['NHSBSA', '171qnpl3QoswkiS-di6xTnmXntscaFFbh_inByByB6Ck']\n",
            "header Data ['internal code', 'supplier code', 'supplier description', 'pack size', 'pip code', 'price']\n",
            "Header matched with Data, list_indices_result: [0, 4, 2]\n",
            "[['internal code', 'pip code', 'supplier description'], ['sel200tab30', None, '200-sel tablets 30'], ['x', None, '365 community woundcare pack with medium gloves 100'], ['x', None, '365 film dressing 15cm x 20cm 1'], ['4sur4083986', None, '4sure beta-ketone testing strips 1']]\n",
            "Data updated successfully in the file with ID '1ni4EtmdGc1a5UtG7LdSrNjwB-p5yu4qY'.\n",
            "                                          \n",
            "-----------------------------------------\n",
            "index:40, ['Clarity', '12UbQBXLIWnGDaj5DIuIDyHDS5TXW69gKsIp8btPiTuc']\n",
            "header Data ['internal code', 'supplier code', 'supplier code 2', 'supplier description']\n",
            "Header matched with Data, list_indices_result: [0, None, 3]\n",
            "[['internal code', 'pip code', 'supplier description'], ['alen70mgtab4', None, 'alendronic acid 70mg tabs (4)'], ['alfu10mgtab30', None, 'alfuzosin 10mg xl tabs (30)'], ['allo100mgtab28', None, 'allopurinol 100mg tabs (28)'], ['aman100mcap56', None, 'amantadine 100mg caps (56)']]\n",
            "Data updated successfully in the file with ID '1ni4EtmdGc1a5UtG7LdSrNjwB-p5yu4qY'.\n",
            "                                          \n",
            "-----------------------------------------\n",
            "index:41, ['Phoenix', '1WEehRLfgfoBujzrob0akhaCtuBUQTLvHi1XvnV5DagE']\n",
            "header Data ['code', 'pipcode', 'available on purchases \\nvia:', 'supplier', 'brand support product', 'generic name', 'pack \\nsize']\n",
            "Header matched with Data, list_indices_result: [None, None, None]\n",
            "[['internal code', 'pip code', 'supplier description'], [None, None, None], [None, None, None], [None, None, None], [None, None, None]]\n",
            "Data updated successfully in the file with ID '1ni4EtmdGc1a5UtG7LdSrNjwB-p5yu4qY'.\n",
            "                                          \n",
            "-----------------------------------------\n",
            "index:42, ['TEVA', '1L37U7PZaY2M7-vdjHA4k_dzoxJVerst1Mc77QJaZPTo']\n",
            "header Data ['internal code', 'supplier code', 'supplier description']\n",
            "Header matched with Data, list_indices_result: [0, None, 2]\n",
            "[['internal code', 'pip code', 'supplier description'], ['nil', None, 'abacavir/lamivudine 600/300mg tablets 30'], ['alen70mgtab4', None, 'alendronic acid 70mg tablets 4'], ['alfu25mgtab60', None, 'alfuzosin 2.5mg tablets 60'], ['alfu10mgtab30', None, 'alfuzosin xl (fuzatal xl) 10mg xl tablets 30']]\n",
            "Data updated successfully in the file with ID '1ni4EtmdGc1a5UtG7LdSrNjwB-p5yu4qY'.\n",
            "                                          \n",
            "-----------------------------------------\n",
            "index:43, ['PIP Codes', '1m3SHQwkBuum8dFNKnyA4ojWo6WyKrhxubIJWqgO0_l4']\n",
            "header Data ['internal code', 'supplier code', 'supplier description']\n",
            "Header matched with Data, list_indices_result: [0, None, 2]\n",
            "[['internal code', 'pip code', 'supplier description'], ['4sur4083978', None, '4sure blood glucose test strips 50'], ['abel5mgmvia20m', None, 'abelcet vial 5mg/ml 20ml 10 pack'], ['abid40mgdro25m', None, 'abidec drops 25ml'], ['abil10mgdis28', None, 'abilify dispersible tablet 10mg 28 pack']]\n",
            "Data updated successfully in the file with ID '1ni4EtmdGc1a5UtG7LdSrNjwB-p5yu4qY'.\n",
            "                                          \n",
            "-----------------------------------------\n",
            "index:44, ['Accord', '1b55jGzePyKmA7kIuILbFwmqr3n45HeBYgi11ZCqV34E']\n",
            "header Data ['internal code', 'supplier code', 'supplier description', 'pack size', 'pip code', 'price']\n",
            "Header matched with Data, list_indices_result: [0, 4, 2]\n",
            "[['internal code', 'pip code', 'supplier description'], ['acec100mgtab60', '1207406', 'aceclofenac tablets 100mg 60'], ['acic200mgtab25', '1056449', 'aciclovir tablets 200mg 25'], ['acic400mgtab56', '1056456', 'aciclovir tablets 400mg 56'], ['acic800mgtab35', '1056464', 'aciclovir tablets 800mg 35']]\n",
            "Data updated successfully in the file with ID '1ni4EtmdGc1a5UtG7LdSrNjwB-p5yu4qY'.\n",
            "                                          \n",
            "-----------------------------------------\n",
            "index:45, ['Kent', '1XZubmoEGF7sFBQWLHW8DBN4n2iSXiiT8n6zzrIFHq3I']\n",
            "header Data ['internal code', 'kent code', 'product name', 'strength', 'pack size', 'livery']\n",
            "Header matched with Data, list_indices_result: [0, None, None]\n",
            "[['internal code', 'pip code', 'supplier description'], ['amox250mgcap15', None, None], ['amox250mgcap21', None, None], ['amox250mgcap500', None, None], ['amox500mgcap15', None, None]]\n",
            "Data updated successfully in the file with ID '1ni4EtmdGc1a5UtG7LdSrNjwB-p5yu4qY'.\n",
            "                                          \n",
            "-----------------------------------------\n",
            "index:46, ['EMT Friends', '16I7AVsIoWzI2KPnCh_6tDc7pAa2s7_sLLrQQTRPbdcA']\n",
            "header Data ['internal code', 'product', 'pack size', 'concatenate']\n",
            "Header matched with Data, list_indices_result: [0, None, None]\n",
            "[['internal code', 'pip code', 'supplier description'], ['alen70mgtab4', None, None], ['allo100mgtab28', None, None], ['allo300mgtab28', None, None], ['amit10mgtab28', None, None]]\n",
            "Data updated successfully in the file with ID '1ni4EtmdGc1a5UtG7LdSrNjwB-p5yu4qY'.\n",
            "                                          \n",
            "-----------------------------------------\n",
            "index:47, ['Avicenna', '147v5WuJEjQOHz3_L4s4cI7rcJpRO1vTKm4FovO45Nlk']\n",
            "header Data ['internal code', 'supplier code', 'product description', 'pack', 'cost', 'db description', 'supplier string', 'db description', 'supplier string']\n",
            "Header matched with Data, list_indices_result: [0, None, None]\n",
            "[['internal code', 'pip code', 'supplier description'], ['acic400mgtab56', None, None], ['alen70mgtab4', None, None], ['allo100mgtab28', None, None], ['allo300mgtab28', None, None]]\n",
            "Data updated successfully in the file with ID '1ni4EtmdGc1a5UtG7LdSrNjwB-p5yu4qY'.\n",
            "                                          \n",
            "-----------------------------------------\n",
            "index:48, ['Drug Comparison', '1wBLqCQn-gQqTqkekEsS4ZxnNAQHGfs9UjsV_VW6ZVJI']\n",
            "An error occurred: Sheet1\n",
            "                                          \n",
            "-----------------------------------------\n",
            "index:49, ['Bowness Robot Usage File', '1UfCXF-EH3y_q1Askj0uljHA_CyCe4vfCpvOtrT5W6ro']\n",
            "header Data ['name', 'code', 'description', 'pack size']\n",
            "Header matched with Data, list_indices_result: [None, None, None]\n",
            "[['internal code', 'pip code', 'supplier description'], [None, None, None], [None, None, None], [None, None, None], [None, None, None]]\n",
            "Data updated successfully in the file with ID '1ni4EtmdGc1a5UtG7LdSrNjwB-p5yu4qY'.\n",
            "                                          \n",
            "-----------------------------------------\n",
            "index:50, ['eCass', '1R7-qqqvJ08zpf_Ei7AsIhrA8g9pjsVsvHKcuWAMImcA']\n",
            "An error occurred: Sheet1\n",
            "                                          \n",
            "-----------------------------------------\n",
            "index:51, ['Meanwood', '1j1_HDtSst_Z2sjXHem16l5LTEIa4B6bMCdGJEq2LidI']\n",
            "header Data ['internal code', 'supplier code', 'supplier description']\n",
            "Header matched with Data, list_indices_result: [0, None, 2]\n",
            "[['internal code', 'pip code', 'supplier description']]\n",
            "Data updated successfully in the file with ID '1ni4EtmdGc1a5UtG7LdSrNjwB-p5yu4qY'.\n",
            "                                          \n",
            "-----------------------------------------\n",
            "index:52, ['Ionic', '1O53ruKwBXQWFzS8AQL2yJ7vl1ok6-gxYXls7xXYu4Qk']\n",
            "header Data ['internal code', 'supplier code', 'supplier description']\n",
            "Header matched with Data, list_indices_result: [0, None, 2]\n",
            "[['internal code', 'pip code', 'supplier description']]\n",
            "Data updated successfully in the file with ID '1ni4EtmdGc1a5UtG7LdSrNjwB-p5yu4qY'.\n",
            "                                          \n",
            "-----------------------------------------\n",
            "index:53, ['Glenmark', '1XbdbNxAklDdnvZLheKDEOu9Ne-zZCnZ-iX42_-kYKqU']\n",
            "header Data ['internal code', 'supplier code', 'supplier description']\n",
            "Header matched with Data, list_indices_result: [0, None, 2]\n",
            "[['internal code', 'pip code', 'supplier description'], ['acar100mgtab90', None, \"acarbose 100mg 90's - in licensing\"], ['acar50mgtab90', None, \"acarbose 50mg 90's - in licensing\"], ['almo125tab3', None, 'almotriptan 12.5mg 3'], ['almo125tab6', None, 'almotriptan 12.5mg 6']]\n",
            "Data updated successfully in the file with ID '1ni4EtmdGc1a5UtG7LdSrNjwB-p5yu4qY'.\n",
            "                                          \n",
            "-----------------------------------------\n",
            "index:54, ['DE', '1DB97LzAPNZWgz70-Yk0OGbXePCdczK79BHCZXMH1APw']\n",
            "header Data ['internal code', 'supplier code', 'supplier description', 'pack size', 'net']\n",
            "Header matched with Data, list_indices_result: [0, None, 2]\n",
            "[['internal code', 'pip code', 'supplier description'], ['acam333tab16', None, 'acamprosate g/r tablets 333mg'], ['acar100mgtab90', None, 'acarbose tablets 100mg'], ['acar50mgtab90', None, 'acarbose tablets 50mg'], ['acec100mgtab60', None, 'aceclofenac tablets 100mg']]\n",
            "Data updated successfully in the file with ID '1ni4EtmdGc1a5UtG7LdSrNjwB-p5yu4qY'.\n",
            "                                          \n",
            "-----------------------------------------\n",
            "index:55, ['Crescent', '1A3niBL-VS1o3lUh_6ttvmZV2X0HvZv00wFHiOCBiTKg']\n",
            "header Data ['internal code', 'supplier code', 'supplier description']\n",
            "Header matched with Data, list_indices_result: [0, None, 2]\n",
            "[['internal code', 'pip code', 'supplier description'], ['acet250mgtab112', None, 'acetazolamide 250mg tabs 112b'], ['acic200mgtab25', None, 'aciclovir 200mg tabs 25b'], ['acic400mgtab56', None, 'aciclovir 400mg tabs 56b'], ['acic800mgtab35', None, 'aciclovir 800mg tabs 35b']]\n",
            "Data updated successfully in the file with ID '1ni4EtmdGc1a5UtG7LdSrNjwB-p5yu4qY'.\n",
            "                                          \n",
            "-----------------------------------------\n",
            "index:56, ['Optimise Cascade', '1jOX3pXFgL0wiIo85EHMgQUFjwr4aKcFvAu4KwV1z6Yk']\n",
            "header Data ['internal code', 'item', 'ethigen code']\n",
            "Header matched with Data, list_indices_result: [0, None, None]\n",
            "[['internal code', 'pip code', 'supplier description'], ['abas100kpen5', None, None], ['', None, None], ['', None, None], ['', None, None]]\n",
            "Data updated successfully in the file with ID '1ni4EtmdGc1a5UtG7LdSrNjwB-p5yu4qY'.\n",
            "                                          \n",
            "-----------------------------------------\n",
            "index:57, ['AAH Surgical Net Price', '1O8ArrHQsoSoRWKvOFpaeYa9m5wcvpH_OPUIqDJQD2o8']\n",
            "header Data ['supplier code', 'internal code', 'supplier description', 'pack size', 'pip code', 'ean code', 'net price']\n",
            "Header matched with Data, list_indices_result: [1, 4, 2]\n",
            "[['internal code', 'pip code', 'supplier description'], ['-', '4168886', '100u insulin syringe 0.3ml 8mm 30g'], ['-', '4168860', '100u insulin syringe 0.5ml 12mm 29g'], ['-', '4168878', '100u insulin syringe 0.5ml 8mm 30g'], ['-', '4168852', '100u insulin syringe 1ml 12mm 29g']]\n",
            "Data updated successfully in the file with ID '1ni4EtmdGc1a5UtG7LdSrNjwB-p5yu4qY'.\n"
          ]
        }
      ]
    },
    {
      "cell_type": "code",
      "source": [
        "print(len(completedTemplates))\n",
        "print('A1' in completedTemplates)"
      ],
      "metadata": {
        "colab": {
          "base_uri": "https://localhost:8080/"
        },
        "id": "aloyUFUydhDq",
        "outputId": "da1623c4-cabd-4b2d-be2c-8930047c3c12"
      },
      "execution_count": null,
      "outputs": [
        {
          "output_type": "stream",
          "name": "stdout",
          "text": [
            "0\n",
            "False\n"
          ]
        }
      ]
    },
    {
      "cell_type": "markdown",
      "source": [
        "### **2.3.2: Read existing CSV data**"
      ],
      "metadata": {
        "id": "OHkfnZ4t9U-Z"
      }
    },
    {
      "cell_type": "code",
      "source": [
        "#Read Templates CSV\n",
        "templates_data = read_csv_file(id_allDataCSV)\n",
        "print(templates_data[:5])\n",
        "df_csv = pd.DataFrame(templates_data[1:],columns=templates_data[0])\n",
        "df_csv.set_index('supplier description',inplace=True)\n",
        "print(df_csv.head(5))"
      ],
      "metadata": {
        "colab": {
          "base_uri": "https://localhost:8080/"
        },
        "id": "LSya7Og5Sw_w",
        "outputId": "2bad6ccd-cc71-4cbf-a0c7-6a1320a044bb"
      },
      "execution_count": null,
      "outputs": [
        {
          "output_type": "stream",
          "name": "stdout",
          "text": [
            "[{'internal code': 'abas100kpen5', 'pip code': '4025029', 'supplier description': 'abasaglar kwik pen 100u/ml 5x3ml'}, {'internal code': 'abil10mgtab28', 'pip code': '', 'supplier description': 'abilify 10mg tabs x 28'}, {'internal code': 'abil15mgtab28', 'pip code': '3051471', 'supplier description': 'abilify 15mg tabs x 28'}, {'internal code': 'abil5mgtab28', 'pip code': '3126091', 'supplier description': 'abilify 5mg tabs x 28'}, {'internal code': 'abil1mgmora150', 'pip code': '3224722', 'supplier description': 'abilify oral solution 1mg/ml x 150ml'}]\n",
            "                                       internal code pip code\n",
            "supplier description                                         \n",
            "abilify 10mg tabs x 28                 abil10mgtab28         \n",
            "abilify 15mg tabs x 28                 abil15mgtab28  3051471\n",
            "abilify 5mg tabs x 28                   abil5mgtab28  3126091\n",
            "abilify oral solution 1mg/ml x 150ml  abil1mgmora150  3224722\n",
            "accu-chek aviva test strips x 50      accucheckavi50  3171253\n"
          ]
        }
      ]
    },
    {
      "cell_type": "markdown",
      "source": [
        "## **2.4: Get PricelistExport Database**"
      ],
      "metadata": {
        "id": "LQdyaRd29uPw"
      }
    },
    {
      "cell_type": "code",
      "source": [
        "pricelistExport_data = getSheetsData(id_pricelistExport,name_Tab_pricelistExport,'A1:Z')\n",
        "internal_codes = reArrangeCols(pricelistExport_data,['Internal Code'],flat=True)\n",
        "standard_names_list = reArrangeCols(pricelistExport_data,['Item Name'],flat=True)\n",
        "print(internal_codes[:5])\n",
        "print(standard_names_list[:5])\n",
        "df_pricelistExport = pd.DataFrame(pricelistExport_data[1:],columns=pricelistExport_data[0])\n",
        "df_pricelistExport.set_index('item name',inplace=True)\n",
        "print(df_pricelistExport.head(5))\n",
        "print(f\"Missing Values: {df_pricelistExport.index.isnull().sum()}\")"
      ],
      "metadata": {
        "colab": {
          "base_uri": "https://localhost:8080/"
        },
        "id": "vW0aAIMHz4OG",
        "outputId": "c5fca880-8943-4c86-8dd2-3deeb3add32f"
      },
      "execution_count": null,
      "outputs": [
        {
          "output_type": "stream",
          "name": "stdout",
          "text": [
            "header Data ['internal code', 'item name', 'pip code']\n",
            "Header matched with Data, list_indices_result: [0]\n",
            "header Data ['internal code', 'item name', 'pip code']\n",
            "Header matched with Data, list_indices_result: [1]\n",
            "['internal code', 'coqe100mgcap30', 'coqe30mgcap30', 'mgci4166435', 'mgox4158259']\n",
            "['item name', '10-q co-enzyme q10 100mg capsules 30', '10-q co-enzyme q10 30mg capsules 30', '100 m-trate magnesium citrate 100mg caps 30', '100mag magnesium oxide 100mg capsules 30 caps']\n",
            "                                                internal code pip code\n",
            "item name                                                             \n",
            "10-q co-enzyme q10 100mg capsules 30           coqe100mgcap30     None\n",
            "10-q co-enzyme q10 30mg capsules 30             coqe30mgcap30     None\n",
            "100 m-trate magnesium citrate 100mg caps 30       mgci4166435  4166435\n",
            "100mag magnesium oxide 100mg capsules 30 caps     mgox4158259  4158259\n",
            "160mag magnesium oxide 160mg capsules 30 caps     mgox4158234  4158234\n",
            "Missing Values: 0\n"
          ]
        }
      ]
    },
    {
      "cell_type": "markdown",
      "source": [
        "## **2.5: Loop on Input Lines:**"
      ],
      "metadata": {
        "id": "0JLk1kva_l9p"
      }
    },
    {
      "cell_type": "code",
      "source": [
        "# Match the Internal Codes\n",
        "countUnMatch = 0\n",
        "totalCount = len(input_data[1:])\n",
        "list_internal_codes = []\n",
        "list_scores = []\n",
        "list_match_type = []\n",
        "step = totalCount // 10\n",
        "progress = 0\n",
        "\n",
        "for index, input_row in df_input_data.iloc[1:].iterrows():\n",
        "  if index >0 and index % step == 0:\n",
        "    progress += 10\n",
        "    print(f\"Progress: {progress}%\")\n",
        "  internal_code = input_row['internal code']\n",
        "  score = None\n",
        "  match_type = None\n",
        "\n",
        "  input_code = input_row['supplier code']\n",
        "  input_pip = input_row['pip code']\n",
        "  input_name = input_row['supplier description']\n",
        "\n",
        "  ### 2.5.1: Find Supplier Code in Supplier Template\n",
        "  if not internal_code and input_code and not df_supplier_template.empty and input_code in df_supplier_template.index:\n",
        "    internal_code = df_supplier_template.loc[input_code, 'internal code']\n",
        "    if type(internal_code) != type('string'):\n",
        "      internal_code = internal_code.iloc[0]\n",
        "    match_type = 'Supplier Code'\n",
        "\n",
        "  ### 2.5.2: Find PIP Code in CSV Templates\n",
        "  if not internal_code and input_pip and input_pip in df_csv['pip code'].values:\n",
        "    internal_code = df_csv.loc[df_csv['pip code'] == input_pip, 'internal code'].iloc[0]\n",
        "    match_type = 'PIP - Templates'\n",
        "\n",
        "  ### 2.5.3: Find PIP Code in PricelistExport Database\n",
        "  if not internal_code and input_pip and input_pip in df_pricelistExport['pip code'].values:\n",
        "    internal_code = df_pricelistExport.loc[df_pricelistExport['pip code'] == input_pip, 'internal code'].iloc[0]\n",
        "    match_type = 'PIP - PricelistExport'\n",
        "\n",
        "  ### 2.5.4: Find Supplier Description in CSV Templates\n",
        "  if not internal_code and input_name and input_name in df_csv.index:\n",
        "    internal_code = df_csv.loc[input_name,'internal code']\n",
        "    if type(internal_code) != type('string'):\n",
        "      internal_code = internal_code.iloc[0]\n",
        "    match_type = 'Item - Templates'\n",
        "\n",
        "  ### 2.5.5: Find Supplier Description in PricelistExport Database\n",
        "  if not internal_code and input_name and input_name in df_pricelistExport.index:\n",
        "    internal_code = df_pricelistExport.loc[input_name,'internal code']\n",
        "    if type(internal_code) != type('string'):\n",
        "      internal_code = internal_code.iloc[0]\n",
        "    match_type = 'Item - PricelistExport'\n",
        "\n",
        "  ### 2.5.6: Fuzzy Match Supplier Description with PricelistExport Database\n",
        "  if not internal_code and input_name:\n",
        "    matched_standard_name,score = match_input_to_standard(standardize_medicine_name(input_name),standard_names_list)\n",
        "    #print(f\"input:{input_name}, result: {matched_standard_name}\")\n",
        "    if matched_standard_name and matched_standard_name in df_pricelistExport.index:\n",
        "      internal_code = df_pricelistExport.loc[matched_standard_name,'internal code']\n",
        "      if type(internal_code) != type('string'):\n",
        "        internal_code = internal_code.iloc[0]\n",
        "      match_type = 'Percentage'\n",
        "\n",
        "  if not internal_code:\n",
        "    countUnMatch+=1\n",
        "    match_type = None\n",
        "  list_internal_codes.append([str(internal_code).upper() if internal_code else None])\n",
        "  list_scores.append([score])\n",
        "  list_match_type.append([match_type])\n",
        "\n",
        "\n",
        "print(f\"Success Ratio: {((totalCount-countUnMatch)*100)/totalCount} -Count UnMatched: {countUnMatch}/{totalCount}\")\n",
        "\n",
        "gc.open_by_key(id_inputFile).worksheet('Input').batch_update(\n",
        "    [{'range':f'{col_InternalCode}2:{col_InternalCode}','values': list_internal_codes},\n",
        "     {'range':f'{col_Score}2:{col_Score}','values':list_scores},\n",
        "     {'range':f'{col_MatchType}2:{col_MatchType}','values':list_match_type}\n",
        "     ]\n",
        "    )\n"
      ],
      "metadata": {
        "colab": {
          "base_uri": "https://localhost:8080/"
        },
        "id": "3qpnc1FF62Qr",
        "outputId": "4b79e216-3627-46b8-ea05-ffc8a91a6129"
      },
      "execution_count": null,
      "outputs": [
        {
          "output_type": "stream",
          "name": "stdout",
          "text": [
            "Progress: 10%\n",
            "Progress: 20%\n",
            "Progress: 30%\n",
            "Progress: 40%\n",
            "Progress: 50%\n",
            "Progress: 60%\n",
            "Progress: 70%\n",
            "Progress: 80%\n",
            "Progress: 90%\n",
            "Progress: 100%\n",
            "Success Ratio: 32.54959359720968 -Count UnMatched: 21659/32111\n"
          ]
        },
        {
          "output_type": "execute_result",
          "data": {
            "text/plain": [
              "{'spreadsheetId': '1ZW7Go5CwiQDtfLrlPRshV16za-wOzgHSjypiPTB8fUk',\n",
              " 'totalUpdatedRows': 10452,\n",
              " 'totalUpdatedColumns': 3,\n",
              " 'totalUpdatedCells': 20660,\n",
              " 'totalUpdatedSheets': 1,\n",
              " 'responses': [{'spreadsheetId': '1ZW7Go5CwiQDtfLrlPRshV16za-wOzgHSjypiPTB8fUk',\n",
              "   'updatedRange': 'Input!D2:D32112',\n",
              "   'updatedRows': 10452,\n",
              "   'updatedColumns': 1,\n",
              "   'updatedCells': 10452},\n",
              "  {'spreadsheetId': '1ZW7Go5CwiQDtfLrlPRshV16za-wOzgHSjypiPTB8fUk',\n",
              "   'updatedRange': 'Input!E2:E32112',\n",
              "   'updatedRows': 4488,\n",
              "   'updatedColumns': 1,\n",
              "   'updatedCells': 4488},\n",
              "  {'spreadsheetId': '1ZW7Go5CwiQDtfLrlPRshV16za-wOzgHSjypiPTB8fUk',\n",
              "   'updatedRange': 'Input!F2:F32112',\n",
              "   'updatedRows': 5720,\n",
              "   'updatedColumns': 1,\n",
              "   'updatedCells': 5720}]}"
            ]
          },
          "metadata": {},
          "execution_count": 105
        }
      ]
    },
    {
      "cell_type": "markdown",
      "source": [
        "# **3: NHSBSA Description Matches**"
      ],
      "metadata": {
        "id": "nvyCO_FTjTgD"
      }
    },
    {
      "cell_type": "code",
      "source": [],
      "metadata": {
        "id": "6_DMWA_tNWlE"
      },
      "execution_count": null,
      "outputs": []
    }
  ]
}